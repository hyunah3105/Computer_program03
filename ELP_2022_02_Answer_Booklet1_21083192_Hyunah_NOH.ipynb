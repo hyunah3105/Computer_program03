{
  "cells": [
    {
      "cell_type": "markdown",
      "metadata": {
        "id": "JQH5KBd-t5eH"
      },
      "source": [
        "## Question 1 [40 Marks]:\n",
        "There is much more to creating a program than writing code. In ISYS5002, we followed a six-phase development cycle. Demonstrate the first four steps of the development cycle by **designing** an application that helps tourists visiting Australia by converting American dollars to Australian dollars. The program should allow the user to enter a currency value in USD and then display its value in AUD. \n",
        "\n",
        "`The current rate of exchange for USD to AUD is: 1 USD = 1.56 AUD.`\n",
        "\n",
        "\n"
      ],
      "id": "JQH5KBd-t5eH"
    },
    {
      "cell_type": "markdown",
      "source": [
        "**ANSWER: Program Design**   <*Add code/text cells as needed*>\n",
        "\n",
        "**Step 1. State the problem clearly**\n",
        "\n",
        "The first step is to accurately explain the situation. To minimise misconceptions, it is critical to provide a clear, brief problem definition.\n",
        "\n",
        "*  converting/calculating American dollars to Australian dollars.\n",
        "*  the program have to display its value in AUD when user enter a currency value in USD.\n",
        "\n",
        "**Step 2. Describe inputs and output**\n",
        "\n",
        "The second process is to carefully define the information provided to answer the problem and then determine the values to be computed. These elements represent the problem's input and output, and I haven't defined any processing steps yet.\n",
        "1.   Input : currency value in USD\n",
        "2.   Output : currency value in AUD after caculating\n",
        "\n",
        "**Step 3. Work the problem by hand**\n",
        "\n",
        "The third step is to solve the problem manually using a calculator and a simple collection of data.  \n",
        "\n",
        "\n",
        "Based on the provided information about current rate of exchange for USD to AUD is: 1 USD = 1.56 AUD.\n",
        "\n",
        "| USD | AUD|\n",
        "|-------:|------|\n",
        "|1   | 1.56 |\n",
        "|2.5   | 3.9 |\n",
        "| 28   | 43.68 |\n",
        "\n",
        "I can calculate the AUD by hand \n",
        "N(USD) = 1.56 * N(USD)\n",
        "\n",
        "**Step 4. Develop an algorithm and Pseudocode**\n",
        "\n",
        "pseduocode is \n",
        "\n",
        "1. set the current dollar-based exchange rate\n",
        "2. get the data(USD)\n",
        "3. calculate the AUD in USD dollers entered\n",
        "4. show the currnt AUD\n",
        "\n",
        "\n"
      ],
      "metadata": {
        "id": "FvQHYQujSSFk"
      },
      "id": "FvQHYQujSSFk"
    },
    {
      "cell_type": "markdown",
      "source": [
        "**Implement** your design. Your implementation should follow the best practices and demonstrate the last two steps of the methodology. This requirement includes input validation and testing. \n",
        "\n",
        "Save the Colab Notebook to your GitHub repository.\n",
        "\n"
      ],
      "metadata": {
        "id": "ZGPychQzSAxo"
      },
      "id": "ZGPychQzSAxo"
    },
    {
      "cell_type": "markdown",
      "source": [
        "**ANSWER: Program Implementation**  <*Add code/text cells as needed*>\n",
        "\n",
        "I want to implement this block from the design.\n",
        "\n",
        "AUD = USD * 1.56\n",
        "\n",
        "The design makes no mention of what should be displayed on the screen. \n",
        "\n",
        "So, I updated the designe.\n",
        "\n",
        "entered USD and 1.56 as an exchange rate in result\n",
        "display 'USD*1.56 = AUD'\n"
      ],
      "metadata": {
        "id": "H1VSUx_uSlam"
      },
      "id": "H1VSUx_uSlam"
    },
    {
      "cell_type": "markdown",
      "source": [
        "\n",
        "**Step 5. Convert Pseudocode to Python Code**"
      ],
      "metadata": {
        "id": "cpnqnu7pCGAy"
      },
      "id": "cpnqnu7pCGAy"
    },
    {
      "cell_type": "code",
      "source": [
        "# Get the USD data and compute the current AUD dollers\n",
        " \n",
        "# set the current exchange_rate(1 USD = 1.56 AUD)\n",
        "exh_rt = 1.56;\n",
        "\n",
        "# Get the data\n",
        "usd1 = 1\n",
        "usd2 = 2.5\n",
        "usd3 = 28\n",
        "\n",
        "total_aud = 0;\n",
        "\n",
        "# Caculate the AUD and print\n",
        "total_aud = usd1 * exh_rt;\n",
        "print(\"when enterd\",usd1,\"dollers in USD, the total AUD is\",round(total_aud,2))\n",
        "total_aud = usd2 * exh_rt;\n",
        "print(\"when enterd\",usd2,\"dollers in USD, the total AUD is\",round(total_aud,2))\n",
        "total_aud = usd3 * exh_rt;\n",
        "print(\"when enterd\",usd3,\"dollers in USD, the total AUD is\",round(total_aud,2))"
      ],
      "metadata": {
        "colab": {
          "base_uri": "https://localhost:8080/"
        },
        "id": "mJ_W9qxjtu8-",
        "outputId": "4fbc259d-ee03-4ef4-894b-e9554248a49f"
      },
      "id": "mJ_W9qxjtu8-",
      "execution_count": 8,
      "outputs": [
        {
          "output_type": "stream",
          "name": "stdout",
          "text": [
            "when enterd 1 dollers in USD, the total AUD is 1.56\n",
            "when enterd 2.5 dollers in USD, the total AUD is 3.9\n",
            "when enterd 28 dollers in USD, the total AUD is 43.68\n"
          ]
        }
      ]
    },
    {
      "cell_type": "markdown",
      "source": [
        "**Step 6. Test Solution with a variety of data**"
      ],
      "metadata": {
        "id": "mTo22_9pBjib"
      },
      "id": "mTo22_9pBjib"
    },
    {
      "cell_type": "code",
      "source": [
        "# prompt user for USD input and display the value\n",
        "\n",
        "usd_num = float(input(\"Enter the us doller(s): \"))\n",
        "print(\"The entered USD is\", usd_num )\n",
        "\n",
        "# set the current exchange_rate(1 USD = 1.56 AUD)\n",
        "exch_rt = 1.56;\n",
        "\n",
        "# based on the income, determine a currency value in USD and then display its value in AUD\n",
        "total_auds = usd_num * exch_rt;\n",
        "\n",
        "# Output the calculated currency value in AUD\n",
        "print(\"The currency value in AUD is \", total_auds)"
      ],
      "metadata": {
        "id": "hQonnn4JSu1N",
        "colab": {
          "base_uri": "https://localhost:8080/"
        },
        "outputId": "9b1192be-83ab-43d7-be67-5e37ae50815f"
      },
      "execution_count": 11,
      "outputs": [
        {
          "output_type": "stream",
          "name": "stdout",
          "text": [
            "Enter the us doller(s): 28\n",
            "The entered USD is 28.0\n",
            "The currency value in AUD is  43.68\n"
          ]
        }
      ],
      "id": "hQonnn4JSu1N"
    },
    {
      "cell_type": "markdown",
      "id": "75e13390",
      "metadata": {
        "id": "75e13390"
      },
      "source": [
        "## Question 2 [20 Marks]:\n",
        "\n",
        "The `elp_cheer` function repeats the given word the specified number of times and then attaches exclamation marks at the end of the words.\n",
        "\n",
        "The code is not working. It contains errors and does not follow industry best practices. **Fix the mistakes, apply PEP 8 coding best practices and include appropriate comments to explain the code**. Save the Notebook to your GitHub repository."
      ]
    },
    {
      "cell_type": "code",
      "execution_count": 10,
      "id": "3abab3b5",
      "metadata": {
        "id": "3abab3b5"
      },
      "outputs": [],
      "source": [
        "def elp_cheer(word,number,case):\n",
        "\n",
        "# declare global variable to set local variable after repeating \n",
        "  cheerword = '';\n",
        "\n",
        "# Using for loop to iterate as strings as received as parameter 'number'\n",
        "# cheerword = word + \" \" * number\n",
        "  i = 0;\n",
        "  for i in range(number):\n",
        "    cheerword = cheerword + word + \" \";\n",
        "\n",
        "# declare variable to set final variable to refurn when this function called\n",
        "  cheerwordnew = '';\n",
        "  if case is True:\n",
        "    # Upper -> upper\n",
        "    cheerwordnew = cheerword.upper() + '!!!'\n",
        "  else:\n",
        "    # add '!!!' to show if the parameter 'case' is False\n",
        "    cheerwordnew = cheerword + '!!!'\n",
        "  \n",
        "  return cheerwordnew"
      ]
    },
    {
      "cell_type": "code",
      "source": [
        "elp_cheer('hurray',5,False)"
      ],
      "metadata": {
        "colab": {
          "base_uri": "https://localhost:8080/",
          "height": 36
        },
        "id": "uxTYzGPK9foS",
        "outputId": "08be10d0-fa23-4d31-d370-b91adc4fc4e7"
      },
      "id": "uxTYzGPK9foS",
      "execution_count": 11,
      "outputs": [
        {
          "output_type": "execute_result",
          "data": {
            "text/plain": [
              "'hurray hurray hurray hurray hurray !!!'"
            ],
            "application/vnd.google.colaboratory.intrinsic+json": {
              "type": "string"
            }
          },
          "metadata": {},
          "execution_count": 11
        }
      ]
    },
    {
      "cell_type": "markdown",
      "id": "351973d9",
      "metadata": {
        "id": "351973d9"
      },
      "source": [
        "## Question 3 [30 Marks] :\n",
        "Write a program that reads in the `elp_sales.csv` and compute and display the maximum, minimum and average profit for countries in **Australia and Oceania region**. For each country in the Australia and Oceania region, plot their total profit. \n",
        "\n",
        "*(Hint: read the CSV into a Pandas dataframe, create a new dataframe for the region, and use the new dataframe for the calculations and bar chart. Compute the total profit before computing the max, min and average)*. \n",
        "\n",
        "Save your answer booklet to your GitHub repository.\n"
      ]
    },
    {
      "cell_type": "code",
      "source": [
        "#import pandas module and pyplot\n",
        "import pandas as pd\n",
        "from matplotlib import pyplot as plt\n",
        "\n",
        "# Load the data from csv file\n",
        "data = pd.read_csv('elp_sales_data.csv')\n",
        "\n",
        "# new grouping datas for Australia and Oceania only\n",
        "data_frame = data.loc[data[\"Region\"]==\"Australia and Oceania\",[\"Region\",\"Country\",\"Total Revenue\",\"Total Cost\"]]\n",
        "# saving the group to new dataframe\n",
        "df2 = pd.DataFrame(data_frame)\n",
        "\n",
        "# calculate total_profit from total revenue minus total cost\n",
        "df2['Total_Profit'] = df2[\"Total Revenue\"]-df2[\"Total Cost\"]\n",
        "# Group with new columns with calculated values.\n",
        "df3 = pd.DataFrame(data_frame)\n",
        "# view new final dataframe\n",
        "print(df3)\n",
        "\n",
        "print(\"=================Min/Max/Avg==================\")\n",
        "# print minimum,maximum and average based on grouped data\n",
        "print(\"The Minimum is\", df3[\"Total_Profit\"].min())\n",
        "print(\"The Maximum is\", df3[\"Total_Profit\"].max())\n",
        "print(\"The Average is\", df3[\"Total_Profit\"].mean())\n",
        "\n",
        "# drawing bar chart for each country in the Australia and Oceania region by using pyplot module\n",
        "print(\"=================bar chart==================\")\n",
        "df3.plot.bar(y='Total_Profit',x='Country')\n",
        "plt.title(\"Total_Profit of countries\")\n",
        "plt.xlabel(\"Country\")\n",
        "\n"
      ],
      "metadata": {
        "id": "gnj4A5FTpjLt",
        "colab": {
          "base_uri": "https://localhost:8080/",
          "height": 1000
        },
        "outputId": "ef456388-1e2c-4a35-eb1d-05f295113f46"
      },
      "id": "gnj4A5FTpjLt",
      "execution_count": 138,
      "outputs": [
        {
          "output_type": "stream",
          "name": "stdout",
          "text": [
            "                   Region                         Country  Total Revenue  \\\n",
            "0   Australia and Oceania                          Tuvalu     2533654.00   \n",
            "5   Australia and Oceania                 Solomon Islands      759202.72   \n",
            "19  Australia and Oceania                      East Timor     2492526.12   \n",
            "23  Australia and Oceania                     New Zealand       20404.71   \n",
            "26  Australia and Oceania                        Kiribati       50363.34   \n",
            "32  Australia and Oceania                       Australia     1904138.04   \n",
            "56  Australia and Oceania                            Fiji     1082418.40   \n",
            "60  Australia and Oceania                       Australia      140287.40   \n",
            "76  Australia and Oceania  Federated States of Micronesia      445033.55   \n",
            "79  Australia and Oceania                          Samoa      4220728.80   \n",
            "91  Australia and Oceania                       Australia      445508.05   \n",
            "\n",
            "    Total Cost  Total_Profit  \n",
            "0   1582243.50     951410.50  \n",
            "5    474115.08     285087.64  \n",
            "19  2154588.52     337937.60  \n",
            "23    15134.04       5270.67  \n",
            "26    37354.16      13009.18  \n",
            "32  1534983.04     369155.00  \n",
            "56   354995.20     727423.20  \n",
            "60    79869.02      60418.38  \n",
            "76   298158.41     146875.14  \n",
            "79  2542187.82    1678540.98  \n",
            "91   298476.31     147031.74  \n",
            "=================Min/Max/Avg==================\n",
            "The Minimum is 5270.669999999998\n",
            "The Maximum is 1678540.98\n",
            "The Average is 429287.27545454545\n",
            "=================bar chart==================\n"
          ]
        },
        {
          "output_type": "execute_result",
          "data": {
            "text/plain": [
              "Text(0.5, 0, 'Country')"
            ]
          },
          "metadata": {},
          "execution_count": 138
        },
        {
          "output_type": "display_data",
          "data": {
            "text/plain": [
              "<Figure size 432x288 with 1 Axes>"
            ],
            "image/png": "[encoded data removed]"
          },
          "metadata": {
            "needs_background": "light"
          }
        }
      ]
    },
    {
      "cell_type": "markdown",
      "source": [
        "## Question 4 [10 Marks]\n",
        "Write a report reflecting on the lectures, workshops, and assessments for this unit, and discuss whether we achieved the unit's learning outcomes. As an appendix to the report, please include a copy of the body of all your weekly journals in a Word document. Submit the word document via the Turnitin link on Blackboard.\n",
        "\n",
        "** DO NOT ANSWER HERE ** Your answer to Question 4 is to be completed in a Word Document."
      ],
      "metadata": {
        "id": "2EXbKLCuH5iH"
      },
      "id": "2EXbKLCuH5iH"
    }
  ],
  "metadata": {
    "kernelspec": {
      "display_name": "Python 3 (ipykernel)",
      "language": "python",
      "name": "python3"
    },
    "language_info": {
      "codemirror_mode": {
        "name": "ipython",
        "version": 3
      },
      "file_extension": ".py",
      "mimetype": "text/x-python",
      "name": "python",
      "nbconvert_exporter": "python",
      "pygments_lexer": "ipython3",
      "version": "3.9.7"
    },
    "colab": {
      "provenance": [],
      "collapsed_sections": []
    }
  },
  "nbformat": 4,
  "nbformat_minor": 5
}